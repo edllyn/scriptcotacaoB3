{
 "cells": [
  {
   "cell_type": "code",
   "execution_count": 1,
   "id": "15adcaec",
   "metadata": {},
   "outputs": [],
   "source": [
    "# programa de manipulacao de dados "
   ]
  },
  {
   "cell_type": "code",
   "execution_count": 2,
   "id": "61a96b2d",
   "metadata": {},
   "outputs": [],
   "source": [
    "#Bibliotecas \n",
    "import pandas as pd"
   ]
  },
  {
   "cell_type": "code",
   "execution_count": 3,
   "id": "7ec71f18",
   "metadata": {},
   "outputs": [],
   "source": [
    "def readFile(path, nameFile, yearDate, typeFile):\n",
    "  # criacao do dataframe \n",
    "  _file = f'{path}{nameFile}{yearDate}.{typeFile}'\n",
    "  colunaInspecao = [(2,10), (10,12), (12,24), (27,39), (56,69), (69,82), (82,95), (108,121), (152,170), (170,188)]\n",
    "  nomes = ['DATA_DO_PREGAO', 'CODBDI', 'CODIGO_DE_NEGOCIACAO_DO_PAPEL', 'NOME_DA_ACAO', 'PRECO_ABERTURA','PRECO_MAX','PRECO_MIN','PRECO_FECHAMENTO','QTD_NEGOCIOS','VOLUME_NEGOCIOS' ]\n",
    "  dataFrame = pd.read_fwf(_file, colspecs = colunaInspecao, names = nomes, skipwors = 1)\n",
    "\n",
    "  return dataFrame"
   ]
  },
  {
   "cell_type": "code",
   "execution_count": 4,
   "id": "9fb449e6",
   "metadata": {},
   "outputs": [],
   "source": [
    "#filtrando as acoes\n",
    "def filterStocks(dataFrame):\n",
    "  dataFrame = dataFrame[dataFrame['CODBDI'] == 2]\n",
    "  dataFrame = dataFrame.drop(['CODBDI'], 1)\n",
    "  return dataFrame"
   ]
  },
  {
   "cell_type": "code",
   "execution_count": 5,
   "id": "ce73202a",
   "metadata": {},
   "outputs": [],
   "source": [
    "#mudando o campo de data para AnoMesDia\n",
    "def parseDate(dataFrame):\n",
    "  dataFrame['DATA_DO_PREGAO'] = pd.to_datetime(dataFrame['DATA_DO_PREGAO'], format = '%Y%m%d')\n",
    "  return dataFrame"
   ]
  },
  {
   "cell_type": "code",
   "execution_count": 6,
   "id": "c5c314e2",
   "metadata": {},
   "outputs": [],
   "source": [
    "#Colocando campos númericos em float\n",
    "def parseValue(dataFrame):\n",
    "    dataFrame['PRECO_ABERTURA'] = (dataFrame['PRECO_ABERTURA']/100).astype(float)\n",
    "    dataFrame['PRECO_MAX'] = (dataFrame['PRECO_MAX']/100).astype(float)\n",
    "    dataFrame['PRECO_MIN'] = (dataFrame['PRECO_MIN']/100).astype(float)\n",
    "    dataFrame['PRECO_FECHAMENTO'] = (dataFrame['PRECO_FECHAMENTO']/100).astype(float)\n",
    "    return dataFrame"
   ]
  },
  {
   "cell_type": "code",
   "execution_count": 7,
   "id": "055c4268",
   "metadata": {},
   "outputs": [],
   "source": [
    "#Consolidação dos arquivos\n",
    "def concatenacaoFiles(path, nameFile, yearDate, typeFile, finalFile):\n",
    "  dfFinal = pd.DataFrame()\n",
    "\n",
    "  for y in yearDate:\n",
    "    dataFrame = (\n",
    "      readFile(path, nameFile, y, typeFile)\n",
    "        .pipe(filterStocks)\n",
    "        .pipe(parseDate)\n",
    "        .pipe(parseValue)\n",
    "    )\n",
    "\n",
    "    dfFinal = dfFinal.append(dataFrame)\n",
    "    continue \n",
    "\n",
    "  dfFinal = dfFinal.reset_index(drop=True)\n",
    "  dfFinal.to_csv(f'{path}//{finalFile}', index=False)\n",
    "  \n",
    "  return None "
   ]
  },
  {
   "cell_type": "code",
   "execution_count": 8,
   "id": "7bc5dc4e",
   "metadata": {},
   "outputs": [],
   "source": [
    "#rodando o Script \n",
    "\n",
    "yearDate = ['2020', '2021', '2022']\n",
    "path=f'C:/Users/edlly/Downloads/BaseB3/'\n",
    "\n",
    "nameFile='COTAHIST_A'\n",
    "typeFile = 'txt'\n",
    "finalFile = 'CotacaohistoricaB3.csv'\n",
    "concatenacaoFiles(path, nameFile, yearDate, typeFile, finalFile)"
   ]
  },
  {
   "cell_type": "code",
   "execution_count": null,
   "id": "a9ccc956",
   "metadata": {},
   "outputs": [],
   "source": []
  }
 ],
 "metadata": {
  "kernelspec": {
   "display_name": "Python 3",
   "language": "python",
   "name": "python3"
  },
  "language_info": {
   "codemirror_mode": {
    "name": "ipython",
    "version": 3
   },
   "file_extension": ".py",
   "mimetype": "text/x-python",
   "name": "python",
   "nbconvert_exporter": "python",
   "pygments_lexer": "ipython3",
   "version": "3.8.8"
  }
 },
 "nbformat": 4,
 "nbformat_minor": 5
}
